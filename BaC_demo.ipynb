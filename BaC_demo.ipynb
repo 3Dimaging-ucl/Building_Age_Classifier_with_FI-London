{
 "cells": [
  {
   "cell_type": "code",
   "execution_count": 1,
   "metadata": {},
   "outputs": [],
   "source": [
    "from Classifier.BaClassifier import BaClassfier"
   ]
  },
  {
   "cell_type": "code",
   "execution_count": 2,
   "metadata": {},
   "outputs": [],
   "source": [
    "single_img_path = \"./Test/Image/6.jpg\"\n",
    "single_output_path = './Test/Prediction/resutl_single.json'"
   ]
  },
  {
   "cell_type": "code",
   "execution_count": 3,
   "metadata": {},
   "outputs": [],
   "source": [
    "classfier = BaClassfier(single_img_path, single_output_path, img_mode='single', BaCmode=1, api_key='')"
   ]
  },
  {
   "cell_type": "code",
   "execution_count": 4,
   "metadata": {},
   "outputs": [
    {
     "name": "stdout",
     "output_type": "stream",
     "text": [
      "Prompt:\n",
      "\n",
      "            Your task is to predict the age epoch of a building in London based on the image provided by users.\n",
      "            \n",
      "            You will be presented with <building>, an image containing a main building. You need to infer the most likely <building_age_epoch>.\n",
      "\n",
      "            Only select <building_age_epoch> from this list: [\">2020\", \"2000-2019\", \"1980-1999\", \"1960-1979\", \"1940-1959\", \"1920-1939\", \"1900-1919\", \"1880-1899\", \"1860-1879\", \"1840-1859\", \"1820-1839\", \"1800-1819\", \"1750-1799\", \"1700-1749\", \"<1700\"].\n",
      "\n",
      "            Organize your answer in the following format containing two keys: \n",
      "            {\n",
      "                \"age\": <building_age_epoch>,\n",
      "                \"reason\": \"\"\n",
      "            }\n",
      "\n",
      "            The meaning of two keys:\n",
      "            - \"age\": the most likely <building_age_epoch> chosen from the provided list.\n",
      "            - \"reason\": a concise explanation supporting your prediction. Please do not use line breaks in the reason.\n",
      "            \n",
      "------------------------------\n",
      "Mode: single\n",
      "------------------------------\n",
      "Image Encoded\n",
      "------------------------------\n",
      "Result Predicted\n",
      "------------------------------\n",
      "Result Saved\n",
      "------------------------------\n"
     ]
    }
   ],
   "source": [
    "classfier.Ba_classification()"
   ]
  },
  {
   "cell_type": "code",
   "execution_count": 5,
   "metadata": {},
   "outputs": [],
   "source": [
    "img_folder = \"./Test/Image/\"\n",
    "multiple_output_path = './Test/Prediction/resutl_multiple.json'"
   ]
  },
  {
   "cell_type": "code",
   "execution_count": 6,
   "metadata": {},
   "outputs": [],
   "source": [
    "classfier = BaClassfier(img_folder, multiple_output_path, img_mode='multiple', BaCmode=1, api_key='')"
   ]
  },
  {
   "cell_type": "code",
   "execution_count": 7,
   "metadata": {},
   "outputs": [
    {
     "name": "stdout",
     "output_type": "stream",
     "text": [
      "Prompt:\n",
      "\n",
      "            Your task is to predict the age epoch of a building in London based on the image provided by users.\n",
      "            \n",
      "            You will be presented with <building>, an image containing a main building. You need to infer the most likely <building_age_epoch>.\n",
      "\n",
      "            Only select <building_age_epoch> from this list: [\">2020\", \"2000-2019\", \"1980-1999\", \"1960-1979\", \"1940-1959\", \"1920-1939\", \"1900-1919\", \"1880-1899\", \"1860-1879\", \"1840-1859\", \"1820-1839\", \"1800-1819\", \"1750-1799\", \"1700-1749\", \"<1700\"].\n",
      "\n",
      "            Organize your answer in the following format containing two keys: \n",
      "            {\n",
      "                \"age\": <building_age_epoch>,\n",
      "                \"reason\": \"\"\n",
      "            }\n",
      "\n",
      "            The meaning of two keys:\n",
      "            - \"age\": the most likely <building_age_epoch> chosen from the provided list.\n",
      "            - \"reason\": a concise explanation supporting your prediction. Please do not use line breaks in the reason.\n",
      "            \n",
      "------------------------------\n",
      "Mode: multiple\n",
      "------------------------------\n",
      "Folder Loaded\n",
      "------------------------------\n",
      "6.jpg Image Encoded\n",
      "6.jpg Result Predicted\n",
      "6.jpg Result Recorded\n",
      "------------------------------\n",
      "23.jpg Image Encoded\n",
      "23.jpg Result Predicted\n",
      "23.jpg Result Recorded\n",
      "------------------------------\n",
      "34.jpg Image Encoded\n",
      "34.jpg Result Predicted\n",
      "34.jpg Result Recorded\n",
      "------------------------------\n",
      "30.jpg Image Encoded\n",
      "30.jpg Result Predicted\n",
      "30.jpg Result Recorded\n",
      "------------------------------\n",
      "76.jpg Image Encoded\n",
      "76.jpg Result Predicted\n",
      "76.jpg Result Recorded\n",
      "------------------------------\n",
      "Result Saved\n",
      "------------------------------\n"
     ]
    }
   ],
   "source": [
    "classfier.Ba_classification()"
   ]
  }
 ],
 "metadata": {
  "kernelspec": {
   "display_name": "openai",
   "language": "python",
   "name": "python3"
  },
  "language_info": {
   "codemirror_mode": {
    "name": "ipython",
    "version": 3
   },
   "file_extension": ".py",
   "mimetype": "text/x-python",
   "name": "python",
   "nbconvert_exporter": "python",
   "pygments_lexer": "ipython3",
   "version": "3.9.16"
  }
 },
 "nbformat": 4,
 "nbformat_minor": 2
}
